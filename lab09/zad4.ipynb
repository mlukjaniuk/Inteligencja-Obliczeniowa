{
 "cells": [
  {
   "attachments": {},
   "cell_type": "markdown",
   "metadata": {},
   "source": [
    "Zadanie 4:"
   ]
  },
  {
   "cell_type": "code",
   "execution_count": 4,
   "metadata": {},
   "outputs": [
    {
     "name": "stdout",
     "output_type": "stream",
     "text": [
      "Wartości oczekiwane dla stanów:\n",
      "[0.06888624 0.06141117 0.07440763 0.05580502 0.09185097 0.\n",
      " 0.11220727 0.         0.14543392 0.24749561 0.29961676 0.\n",
      " 0.         0.37993504 0.63901974 0.        ]\n",
      "Optymalna strategia:\n",
      "[0 3 0 3 0 0 0 0 3 1 0 0 0 2 1 0]\n"
     ]
    }
   ],
   "source": [
    "# Frozen Lake Value Iteration\n",
    "\n",
    "import numpy as np\n",
    "import gym\n",
    "\n",
    "def value_iteration(env, gamma=0.9, epsilon=1e-6):\n",
    "    num_states = env.observation_space.n\n",
    "    num_actions = env.action_space.n\n",
    "    V = np.zeros(num_states)\n",
    "    \n",
    "    while True:\n",
    "        delta = 0\n",
    "        \n",
    "        for s in range(num_states):\n",
    "            v = V[s]\n",
    "            max_q = float(\"-inf\")\n",
    "            \n",
    "            for a in range(num_actions):\n",
    "                q = 0\n",
    "                for prob, next_state, reward, done in env.P[s][a]:\n",
    "                    q += prob * (reward + gamma * V[next_state])\n",
    "                \n",
    "                max_q = max(max_q, q)\n",
    "            \n",
    "            V[s] = max_q\n",
    "            delta = max(delta, abs(v - V[s]))\n",
    "        \n",
    "        if delta < epsilon:\n",
    "            break\n",
    "    \n",
    "    policy = np.zeros(num_states, dtype=int)\n",
    "    \n",
    "    for s in range(num_states):\n",
    "        max_q = float(\"-inf\")\n",
    "        best_action = -1\n",
    "        \n",
    "        for a in range(num_actions):\n",
    "            q = 0\n",
    "            for prob, next_state, reward, done in env.P[s][a]:\n",
    "                q += prob * (reward + gamma * V[next_state])\n",
    "            \n",
    "            if q > max_q:\n",
    "                max_q = q\n",
    "                best_action = a\n",
    "        \n",
    "        policy[s] = best_action\n",
    "    \n",
    "    return V, policy\n",
    "\n",
    "\n",
    "# Tworzenie środowiska FrozenLake-v1\n",
    "env = gym.make(\"FrozenLake-v1\")\n",
    "env.reset()\n",
    "\n",
    "# Wywołanie algorytmu Value Iteration\n",
    "V, policy = value_iteration(env)\n",
    "\n",
    "# Wyświetlenie wartości oczekiwanych dla stanów\n",
    "print(\"Wartości oczekiwane dla stanów:\")\n",
    "print(V)\n",
    "\n",
    "# Wyświetlenie optymalnej strategii\n",
    "print(\"Optymalna strategia:\")\n",
    "print(policy)\n"
   ]
  }
 ],
 "metadata": {
  "kernelspec": {
   "display_name": "Python 3",
   "language": "python",
   "name": "python3"
  },
  "language_info": {
   "codemirror_mode": {
    "name": "ipython",
    "version": 3
   },
   "file_extension": ".py",
   "mimetype": "text/x-python",
   "name": "python",
   "nbconvert_exporter": "python",
   "pygments_lexer": "ipython3",
   "version": "3.10.4"
  },
  "orig_nbformat": 4
 },
 "nbformat": 4,
 "nbformat_minor": 2
}
