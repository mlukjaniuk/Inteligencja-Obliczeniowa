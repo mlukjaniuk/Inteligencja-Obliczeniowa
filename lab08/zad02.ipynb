{
 "cells": [
  {
   "cell_type": "code",
   "execution_count": 3,
   "metadata": {},
   "outputs": [],
   "source": [
    "from nltk.sentiment.vader import SentimentIntensityAnalyzer\n",
    "import text2emotion as te"
   ]
  },
  {
   "cell_type": "code",
   "execution_count": 4,
   "metadata": {},
   "outputs": [
    {
     "name": "stdout",
     "output_type": "stream",
     "text": [
      "Negatywna opinia:\n",
      "neg: 0.083\n",
      "neu: 0.893\n",
      "pos: 0.024\n",
      "compound: -0.7668\n",
      "\n",
      "Pozytywna opinia:\n",
      "neg: 0.0\n",
      "neu: 0.474\n",
      "pos: 0.526\n",
      "compound: 0.9817\n"
     ]
    }
   ],
   "source": [
    "negative = \"The staff was unattentive. My 8 month old daughter and I were injured in front of other guests when walking alongside the pool my leg fell through the pool skimmer lid as it was loosely fit and flipped over causing my daughter and i to fall to the cement and my knee to hyper extend and causing lacerationsand bruising and maybe more. There was no staff to be found. Every call to the front desk went unanswered. My daughter was crying as I had to limp myself back to my room. My wife had to walk to the front desk and let them know. We were told a manager would be by in the morning to discuss with us the cause of the injury but, to no avail.\"\n",
    "positive = \"The location is fantastic!! The history of this house in very interesting. The lobby looks posh and very cool and my bed was good and slept super well. Staff was really nice. Quick, effective and very friendly.\"\n",
    "\n",
    "sid = SentimentIntensityAnalyzer()\n",
    "negative_scores = sid.polarity_scores(negative)\n",
    "positive_scores = sid.polarity_scores(positive)\n",
    "\n",
    "print(\"Negatywna opinia:\")\n",
    "for key, value in negative_scores.items():\n",
    "    print(f\"{key}: {value}\")\n",
    "\n",
    "print(\"\\nPozytywna opinia:\")\n",
    "for key, value in positive_scores.items():\n",
    "    print(f\"{key}: {value}\")"
   ]
  },
  {
   "attachments": {},
   "cell_type": "markdown",
   "metadata": {},
   "source": [
    "Na podstawie tych wyników można stwierdzić, że analizator Vader poprawnie zidentyfikował negatywne emocje w negatywnej opinii i pozytywne w pozytywnej opinii."
   ]
  },
  {
   "cell_type": "code",
   "execution_count": 7,
   "metadata": {},
   "outputs": [
    {
     "name": "stdout",
     "output_type": "stream",
     "text": [
      "\n",
      "Emocje w negatywnej opinii:\n"
     ]
    },
    {
     "data": {
      "text/plain": [
       "{'Happy': 0.12, 'Angry': 0.25, 'Surprise': 0.0, 'Sad': 0.12, 'Fear': 0.5}"
      ]
     },
     "execution_count": 7,
     "metadata": {},
     "output_type": "execute_result"
    }
   ],
   "source": [
    "print(\"\\nEmocje w negatywnej opinii:\")\n",
    "te.get_emotion(negative)"
   ]
  },
  {
   "cell_type": "code",
   "execution_count": 8,
   "metadata": {},
   "outputs": [
    {
     "name": "stdout",
     "output_type": "stream",
     "text": [
      "\n",
      "Emocje w pozytywnej opinii:\n"
     ]
    },
    {
     "data": {
      "text/plain": [
       "{'Happy': 0.71, 'Angry': 0.14, 'Surprise': 0.0, 'Sad': 0.0, 'Fear': 0.14}"
      ]
     },
     "execution_count": 8,
     "metadata": {},
     "output_type": "execute_result"
    }
   ],
   "source": [
    "print(\"\\nEmocje w pozytywnej opinii:\")\n",
    "te.get_emotion(positive)"
   ]
  },
  {
   "attachments": {},
   "cell_type": "markdown",
   "metadata": {},
   "source": [
    "Na podstawie tych wyników można stwierdzić, że biblioteka text2emotion poprawnie zidentyfikowała emocje w negatywnej i pozytywnej opinii."
   ]
  },
  {
   "cell_type": "code",
   "execution_count": 10,
   "metadata": {},
   "outputs": [
    {
     "name": "stdout",
     "output_type": "stream",
     "text": [
      "Negatywna opinia:\n",
      "neg: 0.313\n",
      "neu: 0.673\n",
      "pos: 0.014\n",
      "compound: -0.995\n",
      "\n",
      "Pozytywna opinia:\n",
      "neg: 0.0\n",
      "neu: 0.653\n",
      "pos: 0.347\n",
      "compound: 0.9823\n"
     ]
    }
   ],
   "source": [
    "spicy_negative = \"The staff was shockingly unattentive and neglectful. My 8-month-old daughter and I endured excruciating pain and distress in front of numerous horrified guests. While walking alongside the pool, my leg plunged through the dangerously loose pool skimmer lid, causing it to flip over abruptly. Both my daughter and I crashed onto the unforgiving cement, resulting in severe injuries. My knee hyper-extended, leaving me in agony, with deep lacerations, extensive bruising, and potentially even more damage. Astonishingly, there was an utter lack of staff presence, and every attempt to contact the front desk went unanswered. My heartbroken daughter's cries echoed as I struggled to limp back to our room, completely unaided. My wife had to make the arduous journey to the front desk herself to inform them of the horrifying incident. Despite being promised a manager's visit the following morning for a discussion about the cause of the injury, our hopes were shattered as no one bothered to show up.\"\n",
    "spicy_positive = \"The location is absolutely phenomenal!! The history of this house is utterly captivating and fascinating. The lobby exudes an aura of exquisite luxury and coolness, making it an irresistible sight. The bed provided was exceptionally comfortable, and I enjoyed an incredibly restful sleep. Moreover, the staff went above and beyond in terms of their exceptional friendliness, efficiency, and promptness. It was truly a delightful experience from start to finish!\"\n",
    "spicy_negative_scores = sid.polarity_scores(spicy_negative)\n",
    "spicy_positive_scores = sid.polarity_scores(spicy_positive)\n",
    "\n",
    "print(\"Negatywna opinia:\")\n",
    "for key, value in spicy_negative_scores.items():\n",
    "    print(f\"{key}: {value}\")\n",
    "\n",
    "print(\"\\nPozytywna opinia:\")\n",
    "for key, value in spicy_positive_scores.items():\n",
    "    print(f\"{key}: {value}\")"
   ]
  },
  {
   "attachments": {},
   "cell_type": "markdown",
   "metadata": {},
   "source": [
    "Wyniki są również poprawne, wręcz jeszcze bardziej wskazują na pożądane emocje."
   ]
  },
  {
   "cell_type": "code",
   "execution_count": 11,
   "metadata": {},
   "outputs": [
    {
     "name": "stdout",
     "output_type": "stream",
     "text": [
      "\n",
      "Emocje w negatywnej opinii:\n"
     ]
    },
    {
     "data": {
      "text/plain": [
       "{'Happy': 0.0, 'Angry': 0.12, 'Surprise': 0.24, 'Sad': 0.29, 'Fear': 0.35}"
      ]
     },
     "execution_count": 11,
     "metadata": {},
     "output_type": "execute_result"
    }
   ],
   "source": [
    "print(\"\\nEmocje w negatywnej opinii:\")\n",
    "te.get_emotion(spicy_negative)"
   ]
  },
  {
   "cell_type": "code",
   "execution_count": 12,
   "metadata": {},
   "outputs": [
    {
     "name": "stdout",
     "output_type": "stream",
     "text": [
      "\n",
      "Emocje w pozytywnej opinii:\n"
     ]
    },
    {
     "data": {
      "text/plain": [
       "{'Happy': 0.54, 'Angry': 0.0, 'Surprise': 0.08, 'Sad': 0.08, 'Fear': 0.31}"
      ]
     },
     "execution_count": 12,
     "metadata": {},
     "output_type": "execute_result"
    }
   ],
   "source": [
    "print(\"\\nEmocje w pozytywnej opinii:\")\n",
    "te.get_emotion(spicy_positive)"
   ]
  },
  {
   "attachments": {},
   "cell_type": "markdown",
   "metadata": {},
   "source": [
    "Na podstawie tych wyników można stwierdzić, że biblioteka text2emotion poprawnie zidentyfikowała emocje w negatywnej i pozytywnej opinii, uwzględniając szczęście, złość, zaskoczenie i smutek, natomiast dziwi mnie taki poziom strachu w pozytywnej opinii."
   ]
  }
 ],
 "metadata": {
  "kernelspec": {
   "display_name": "Python 3",
   "language": "python",
   "name": "python3"
  },
  "language_info": {
   "codemirror_mode": {
    "name": "ipython",
    "version": 3
   },
   "file_extension": ".py",
   "mimetype": "text/x-python",
   "name": "python",
   "nbconvert_exporter": "python",
   "pygments_lexer": "ipython3",
   "version": "3.11.1"
  },
  "orig_nbformat": 4
 },
 "nbformat": 4,
 "nbformat_minor": 2
}
