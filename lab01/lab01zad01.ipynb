{
 "cells": [
  {
   "attachments": {},
   "cell_type": "markdown",
   "metadata": {},
   "source": [
    "###  Zadanie 1"
   ]
  },
  {
   "attachments": {},
   "cell_type": "markdown",
   "metadata": {},
   "source": [
    "A: Funkcja prime sprawdza, czy liczba n jest pierwsza, tzn. czy wśród liczb od 2 do int(sqrt(n))+1 są dzielniki liczby n. Jeśli nie, zwraca ona True oraz False w przeciwnym przypadku."
   ]
  },
  {
   "cell_type": "code",
   "execution_count": null,
   "metadata": {},
   "outputs": [],
   "source": [
    "import math\n",
    "\n",
    "\n",
    "def prime(n):\n",
    "    p_n = int(math.sqrt(n))\n",
    "    for i in range(2, p_n+1):\n",
    "        if n % i == 0:\n",
    "            return False\n",
    "    return True\n",
    "\n",
    "\n",
    "print(prime(3))\n",
    "print(prime(4))\n",
    "print(prime(49))"
   ]
  },
  {
   "attachments": {},
   "cell_type": "markdown",
   "metadata": {},
   "source": [
    "B: Funkcja select_primes(x) zwraca tablicę zawierającą jedynie liczby pierwsze, korzystając z funkcji zdefiniowanej w poprzednim podpunkcie."
   ]
  },
  {
   "cell_type": "code",
   "execution_count": null,
   "metadata": {},
   "outputs": [],
   "source": [
    "def select_primes(x):\n",
    "    res = []\n",
    "    for i in x:\n",
    "        if prime(i) is True:\n",
    "            res.append(i)\n",
    "    return res\n",
    "\n",
    "\n",
    "print(select_primes([3, 6, 11, 25, 19]))"
   ]
  }
 ],
 "metadata": {
  "kernelspec": {
   "display_name": "Python 3",
   "language": "python",
   "name": "python3"
  },
  "language_info": {
   "codemirror_mode": {
    "name": "ipython",
    "version": 3
   },
   "file_extension": ".py",
   "mimetype": "text/x-python",
   "name": "python",
   "nbconvert_exporter": "python",
   "pygments_lexer": "ipython3",
   "version": "3.11.1"
  },
  "orig_nbformat": 4,
  "vscode": {
   "interpreter": {
    "hash": "5238573367df39f7286bb46f9ff5f08f63a01a80960060ce41e3c79b190280fa"
   }
  }
 },
 "nbformat": 4,
 "nbformat_minor": 2
}
